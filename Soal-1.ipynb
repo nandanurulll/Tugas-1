{
 "cells": [
  {
   "cell_type": "markdown",
   "id": "765aa7fc",
   "metadata": {},
   "source": [
    "Buatlah sebuah program yang menerima 3 input dari user. \n",
    "Input tersebut berupa:\n",
    "1. Nama bertipe data string\n",
    "2. Umur bertipe data integer\n",
    "3. Tinggi bertipe data float "
   ]
  },
  {
   "cell_type": "code",
   "execution_count": 2,
   "id": "296ac475",
   "metadata": {},
   "outputs": [
    {
     "name": "stdout",
     "output_type": "stream",
     "text": [
      "Nama anda: nanda\n",
      "Umur anda: 22\n",
      "tinggi badan anda: 123\n",
      "Nama saya nanda, umur saya 22 tahun, dan tinggi badan saya 123.0 cm.\n"
     ]
    }
   ],
   "source": [
    "nama = str(input(\"Nama anda: \"))\n",
    "umur = int(input(\"Umur anda: \"))\n",
    "tinggi = float(input(\"tinggi badan anda: \"))\n",
    "data_diri= 'Nama saya {}, umur saya {} tahun, dan tinggi badan saya {} cm.' .format(nama, umur, tinggi)\n",
    "\n",
    "print(data_diri)"
   ]
  }
 ],
 "metadata": {
  "kernelspec": {
   "display_name": "Python 3 (ipykernel)",
   "language": "python",
   "name": "python3"
  },
  "language_info": {
   "codemirror_mode": {
    "name": "ipython",
    "version": 3
   },
   "file_extension": ".py",
   "mimetype": "text/x-python",
   "name": "python",
   "nbconvert_exporter": "python",
   "pygments_lexer": "ipython3",
   "version": "3.9.7"
  }
 },
 "nbformat": 4,
 "nbformat_minor": 5
}
