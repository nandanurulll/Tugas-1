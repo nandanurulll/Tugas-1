{
 "cells": [
  {
   "cell_type": "markdown",
   "id": "df318ccc",
   "metadata": {},
   "source": [
    "Buatlah sebuah program yang dapat menghitung luas lingkaran.\n",
    "Program meminta input dari user berupa angka sebagai jari-jari lingkaran.\n",
    "Program menghitung luas lingkaran dengan rumus πr² \n",
    "Π = 22/7\n",
    "r = jari - jari lingkaran \n",
    "Lalu tampilkan ke layar dengan format:\n",
    "Hint: untuk menampilkan tanda kuadrat gunakan print(“\\u00b2”)"
   ]
  },
  {
   "cell_type": "code",
   "execution_count": 5,
   "id": "36513c39",
   "metadata": {},
   "outputs": [
    {
     "name": "stdout",
     "output_type": "stream",
     "text": [
      "Jari-jari lingkaran: 5.5\n",
      "Luas lingkaran dengan jari-jari 5.5 cm adalah 95.07 cm².\n"
     ]
    }
   ],
   "source": [
    "phi = 22/7\n",
    "r = float(input(\"Jari-jari lingkaran: \"))\n",
    "luas = phi * r**2\n",
    "\n",
    "hasil = 'Luas lingkaran dengan jari-jari {} cm adalah {:.2f} cm\\u00b2.' .format(r, luas)\n",
    "\n",
    "print(hasil)"
   ]
  }
 ],
 "metadata": {
  "kernelspec": {
   "display_name": "Python 3 (ipykernel)",
   "language": "python",
   "name": "python3"
  },
  "language_info": {
   "codemirror_mode": {
    "name": "ipython",
    "version": 3
   },
   "file_extension": ".py",
   "mimetype": "text/x-python",
   "name": "python",
   "nbconvert_exporter": "python",
   "pygments_lexer": "ipython3",
   "version": "3.9.7"
  }
 },
 "nbformat": 4,
 "nbformat_minor": 5
}
