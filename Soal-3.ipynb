{
 "cells": [
  {
   "cell_type": "markdown",
   "id": "bc26b4a1",
   "metadata": {},
   "source": [
    "Buatlah sebuah program untuk menentukan apakah seorang siswa lulus ujian atau tidak. Siswa dinyatakan lulus apabila nilai ujian teori dan ujian praktek minimal 70. \n",
    "Program menerima input berupa nilai ujian teori dan praktek, nilai ujian dapat berupa bilangan desimal.\n",
    "\n",
    "    Jika nilai ujian teori dan praktek minimal 70,  maka program akan menampilkan:\n",
    "Selamat, anda lulus!\n",
    "\t\n",
    "\tJika nilai ujian teori minimal 70 dan nilai ujian praktek kurang dari 70:\n",
    "Anda harus mengulang ujian praktek.\n",
    "\n",
    "\tJika nilai ujian teori kurang dari 70 dan nilai ujian praktek minimal 70:\n",
    "Anda harus mengulang ujian teori.\n",
    "\n",
    "\tJika nilai ujian teori dan ujian praktek kurang dari 70:\n",
    "Anda harus mengulang ujian teori dan praktek."
   ]
  },
  {
   "cell_type": "code",
   "execution_count": 11,
   "id": "116edb94",
   "metadata": {},
   "outputs": [
    {
     "name": "stdout",
     "output_type": "stream",
     "text": [
      "Nilai ujian teori: 70\n",
      "Nilai ujian praktek: 70\n",
      "Selamat, anda lulus!\n"
     ]
    }
   ],
   "source": [
    "teori = float(input(\"Nilai ujian teori: \"))\n",
    "praktek = float(input(\"Nilai ujian praktek: \"))\n",
    "\n",
    "if teori >= 70 and praktek >= 70:\n",
    "    print(\"Selamat, anda lulus!\")\n",
    "elif teori >= 70 and praktek < 70:\n",
    "    print(\"Anda harus mengulang ujian praktek.\")\n",
    "elif teori < 70 and praktek >= 70:\n",
    "    print(\"Anda harus mengulang ujian teori.\")\n",
    "else:\n",
    "    print(\"Anda harus mengulang ujian teori dan ujian praktek.\")"
   ]
  }
 ],
 "metadata": {
  "kernelspec": {
   "display_name": "Python 3 (ipykernel)",
   "language": "python",
   "name": "python3"
  },
  "language_info": {
   "codemirror_mode": {
    "name": "ipython",
    "version": 3
   },
   "file_extension": ".py",
   "mimetype": "text/x-python",
   "name": "python",
   "nbconvert_exporter": "python",
   "pygments_lexer": "ipython3",
   "version": "3.9.7"
  }
 },
 "nbformat": 4,
 "nbformat_minor": 5
}
